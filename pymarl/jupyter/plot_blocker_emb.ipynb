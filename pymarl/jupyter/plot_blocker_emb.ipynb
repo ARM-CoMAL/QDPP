{
 "cells": [
  {
   "cell_type": "code",
   "execution_count": 1,
   "metadata": {},
   "outputs": [],
   "source": [
    "%matplotlib inline\n",
    "import matplotlib\n",
    "import matplotlib.pyplot as plt\n",
    "import numpy as np\n",
    "import pandas as pd\n",
    "from glob import glob\n",
    "import json\n",
    "import seaborn as sns\n",
    "sns.set(style=\"whitegrid\")"
   ]
  },
  {
   "cell_type": "code",
   "execution_count": 2,
   "metadata": {},
   "outputs": [],
   "source": [
    "def heatmap(data, row_labels, col_labels, ax=None,\n",
    "            cbar_kw={}, cbarlabel=\"\", **kwargs):\n",
    "    \"\"\"\n",
    "    Create a heatmap from a numpy array and two lists of labels.\n",
    "\n",
    "    Parameters\n",
    "    ----------\n",
    "    data\n",
    "        A 2D numpy array of shape (N, M).\n",
    "    row_labels\n",
    "        A list or array of length N with the labels for the rows.\n",
    "    col_labels\n",
    "        A list or array of length M with the labels for the columns.\n",
    "    ax\n",
    "        A `matplotlib.axes.Axes` instance to which the heatmap is plotted.  If\n",
    "        not provided, use current axes or create a new one.  Optional.\n",
    "    cbar_kw\n",
    "        A dictionary with arguments to `matplotlib.Figure.colorbar`.  Optional.\n",
    "    cbarlabel\n",
    "        The label for the colorbar.  Optional.\n",
    "    **kwargs\n",
    "        All other arguments are forwarded to `imshow`.\n",
    "    \"\"\"\n",
    "\n",
    "    if not ax:\n",
    "        ax = plt.gca()\n",
    "\n",
    "    # Plot the heatmap\n",
    "    im = ax.imshow(data, **kwargs)\n",
    "\n",
    "    # Create colorbar\n",
    "    cbar = ax.figure.colorbar(im, ax=ax, fraction=0.045, pad=0.04,  **cbar_kw)\n",
    "    cbar.ax.set_ylabel(cbarlabel, rotation=-90, va=\"bottom\")\n",
    "\n",
    "    # We want to show all ticks...\n",
    "    ax.set_xticks(np.arange(data.shape[1]))\n",
    "    ax.set_yticks(np.arange(data.shape[0]))\n",
    "    # ... and label them with the respective list entries.\n",
    "    ax.set_xticklabels(col_labels)\n",
    "    ax.set_yticklabels(row_labels)\n",
    "\n",
    "    # Let the horizontal axes labeling appear on top.\n",
    "    ax.tick_params(top=True, bottom=False,\n",
    "                   labeltop=True, labelbottom=False)\n",
    "\n",
    "    # Rotate the tick labels and set their alignment.\n",
    "    plt.setp(ax.get_xticklabels(), rotation=-30, ha=\"right\",\n",
    "             rotation_mode=\"anchor\")\n",
    "\n",
    "    # Turn spines off and create white grid.\n",
    "    for edge, spine in ax.spines.items():\n",
    "        spine.set_visible(False)\n",
    "\n",
    "    ax.set_xticks(np.arange(data.shape[1]+1)-.5, minor=True)\n",
    "    ax.set_yticks(np.arange(data.shape[0]+1)-.5, minor=True)\n",
    "    ax.grid(which=\"minor\", color=\"w\", linestyle='-', linewidth=3)\n",
    "    ax.tick_params(which=\"minor\", bottom=False, left=False)\n",
    "\n",
    "    return im, cbar\n",
    "\n",
    "\n",
    "def annotate_heatmap(im, data=None, text=None, valfmt=\"{x:.2f}\",\n",
    "                     textcolors=[\"black\", \"white\"],\n",
    "                     threshold=None, **textkw):\n",
    "    \"\"\"\n",
    "    A function to annotate a heatmap.\n",
    "\n",
    "    Parameters\n",
    "    ----------\n",
    "    im\n",
    "        The AxesImage to be labeled.\n",
    "    data\n",
    "        Data used to annotate.  If None, the image's data is used.  Optional.\n",
    "    valfmt\n",
    "        The format of the annotations inside the heatmap.  This should either\n",
    "        use the string format method, e.g. \"$ {x:.2f}\", or be a\n",
    "        `matplotlib.ticker.Formatter`.  Optional.\n",
    "    textcolors\n",
    "        A list or array of two color specifications.  The first is used for\n",
    "        values below a threshold, the second for those above.  Optional.\n",
    "    threshold\n",
    "        Value in data units according to which the colors from textcolors are\n",
    "        applied.  If None (the default) uses the middle of the colormap as\n",
    "        separation.  Optional.\n",
    "    **kwargs\n",
    "        All other arguments are forwarded to each call to `text` used to create\n",
    "        the text labels.\n",
    "    \"\"\"\n",
    "\n",
    "    if not isinstance(data, (list, np.ndarray)):\n",
    "        data = im.get_array()\n",
    "\n",
    "    # Normalize the threshold to the images color range.\n",
    "    if threshold is not None:\n",
    "        threshold = im.norm(threshold)\n",
    "    else:\n",
    "        threshold = im.norm(data.max())/2.\n",
    "\n",
    "    # Set default alignment to center, but allow it to be\n",
    "    # overwritten by textkw.\n",
    "    kw = dict(horizontalalignment=\"center\",\n",
    "              verticalalignment=\"center\")\n",
    "    kw.update(textkw)\n",
    "\n",
    "    # Get the formatter in case a string is supplied\n",
    "    if isinstance(valfmt, str):\n",
    "        valfmt = matplotlib.ticker.StrMethodFormatter(valfmt)\n",
    "\n",
    "    # Loop over the data and create a `Text` for each \"pixel\".\n",
    "    # Change the text's color depending on the data.\n",
    "    texts = []\n",
    "    for i in range(data.shape[0]):\n",
    "        for j in range(data.shape[1]):\n",
    "            kw.update(color=textcolors[int(im.norm(data[i, j]) > threshold)])\n",
    "            if text is not None:\n",
    "                t = im.axes.text(j, i, text[i, j], **kw)\n",
    "            else:\n",
    "                t = im.axes.text(j, i, valfmt(data[i, j], None), **kw)\n",
    "            texts.append(t)\n",
    "\n",
    "    return texts"
   ]
  },
  {
   "cell_type": "code",
   "execution_count": 3,
   "metadata": {},
   "outputs": [],
   "source": [
    "game = 'Blocker-v0'\n",
    "n_state = 28\n",
    "h = 4\n",
    "w = 7\n",
    "n_agents = 3\n",
    "n_actions = 5\n",
    "\n",
    "log_paths = glob('../results/grid/{}/dpp/2/info.json'.format(game))\n",
    "path = log_paths[-1]\n",
    "log = json.load(open(path, 'r'))"
   ]
  },
  {
   "cell_type": "code",
   "execution_count": 4,
   "metadata": {},
   "outputs": [
    {
     "data": {
      "text/plain": [
       "dict_keys(['B', 'B_T', 'B_cos_0_1', 'B_cos_0_1_T', 'B_cos_0_2', 'B_cos_0_2_T', 'B_cos_1_2', 'B_cos_1_2_T', 'B_norm_0', 'B_norm_0_T', 'B_norm_1', 'B_norm_1_T', 'B_norm_2', 'B_norm_2_T', 'beta_balance', 'beta_balance_T', 'chosen_action_ind_qvals', 'chosen_action_ind_qvals_T', 'ep', 'ep_T', 'ep_length', 'ep_length_T', 'ep_length_mean', 'ep_length_mean_T', 'ep_return', 'ep_return_T', 'episode', 'episode_T', 'epsilon', 'epsilon_T', 'grad_norm', 'grad_norm_T', 'jointq-ind_q_max', 'jointq-ind_q_max_T', 'jointq-ind_q_mean', 'jointq-ind_q_mean_T', 'jointq-ind_q_min', 'jointq-ind_q_min_T', 'loss', 'loss_T', 'q_taken_mean', 'q_taken_mean_T', 'qvals', 'qvals_T', 'raw_beta_balance', 'raw_beta_balance_T', 'return_mean', 'return_mean_T', 'return_std', 'return_std_T', 'states', 'states_T', 'target_ind_qvals_max', 'target_ind_qvals_max_T', 'target_ind_qvals_mean', 'target_ind_qvals_mean_T', 'target_ind_qvals_min', 'target_ind_qvals_min_T', 'target_jointq-ind_q_max', 'target_jointq-ind_q_max_T', 'target_jointq-ind_q_mean', 'target_jointq-ind_q_mean_T', 'target_jointq-ind_q_min', 'target_jointq-ind_q_min_T', 'target_mean', 'target_mean_T', 'target_q_taken_mean', 'target_q_taken_mean_T', 'td_error_abs', 'td_error_abs_T', 'temperature', 'temperature_T', 'test_ep_length_mean', 'test_ep_length_mean_T', 'test_return_mean', 'test_return_mean_T', 'test_return_std', 'test_return_std_T'])"
      ]
     },
     "execution_count": 4,
     "metadata": {},
     "output_type": "execute_result"
    }
   ],
   "source": [
    "log.keys()"
   ]
  },
  {
   "cell_type": "code",
   "execution_count": 5,
   "metadata": {},
   "outputs": [
    {
     "name": "stdout",
     "output_type": "stream",
     "text": [
      "(420, 32)\n"
     ]
    }
   ],
   "source": [
    "B = np.asarray(log['B'][-1]['values'])\n",
    "print(B.shape)\n",
    "B_nrom = np.clip(np.linalg.norm(B, axis=1), 1e-6, 1.)\n",
    "# print(B_nrom)\n",
    "# B_nrom = B\n",
    "# \n",
    "# "
   ]
  },
  {
   "cell_type": "code",
   "execution_count": 6,
   "metadata": {},
   "outputs": [
    {
     "name": "stdout",
     "output_type": "stream",
     "text": [
      "(28, 1, 5) (28, 1, 5) (28, 1, 5)\n",
      "(28, 3, 5)\n"
     ]
    }
   ],
   "source": [
    "B1 = B_nrom[0: n_state * n_actions].reshape(n_state, 1, n_actions )\n",
    "B2 = B_nrom[n_state *n_actions : 2 * n_state *n_actions].reshape(n_state, 1, n_actions)\n",
    "B3 = B_nrom[2 * n_state *n_actions : 3 * n_state *n_actions].reshape(n_state,1, n_actions)\n",
    "print(B1.shape, B2.shape, B3.shape)\n",
    "\n",
    "Bs = np.concatenate((B1,B2,B3),axis=1)\n",
    "print(Bs.shape)"
   ]
  },
  {
   "cell_type": "code",
   "execution_count": 7,
   "metadata": {},
   "outputs": [
    {
     "data": {
      "text/plain": [
       "(array([[0.10604803, 0.08092808, 0.00228636, 0.01949556, 0.00114321]]),\n",
       " array([[0.26656473, 0.17473245, 0.04031592, 0.00048604, 0.04867302]]),\n",
       " array([[0.07765344, 0.0868646 , 0.06713097, 0.00262996, 0.08596355]]))"
      ]
     },
     "execution_count": 7,
     "metadata": {},
     "output_type": "execute_result"
    }
   ],
   "source": [
    "B3[0], B1[0], B2[0]"
   ]
  },
  {
   "cell_type": "code",
   "execution_count": 8,
   "metadata": {},
   "outputs": [
    {
     "data": {
      "text/plain": [
       "(0.0005992820617925797, -0.001769241482083203, 0.0004964593719221479)"
      ]
     },
     "execution_count": 8,
     "metadata": {},
     "output_type": "execute_result"
    }
   ],
   "source": [
    "from numpy import dot\n",
    "from numpy.linalg import norm\n",
    "from sklearn.metrics.pairwise import cosine_similarity\n",
    "\n",
    "B1E = B[0: n_state * n_actions]\n",
    "B2E = B[n_state *n_actions : 2 * n_state *n_actions]\n",
    "B3E = B[2 * n_state *n_actions : 3 * n_state *n_actions]\n",
    "# cosine_similarity(B1E, B2E)\n",
    "B1_B2_cos = ((B1E * B2E).sum(axis=1) / (np.sqrt(B1E* B1E).sum(axis=1)*np.sqrt(B2E*B2E).sum(axis=1)))\n",
    "B1_B3_cos = ((B1E * B3E).sum(axis=1) / (np.sqrt(B1E* B1E).sum(axis=1)*np.sqrt(B3E*B3E).sum(axis=1)))\n",
    "B2_B3_cos = ((B2E * B3E).sum(axis=1) / (np.sqrt(B2E* B2E).sum(axis=1)*np.sqrt(B3E*B3E).sum(axis=1)))\n",
    "# B1_B3_cos = ((B1 * B3) / (np.sqrt(B1* B1)*np.sqrt(B3*B3)))\n",
    "# B2_B3_cos = ((B2 * B3) / (np.sqrt(B2* B2)*np.sqrt(B3*B3)))\n",
    "B1_B2_cos.mean(), B1_B3_cos.mean(), B2_B3_cos.mean()\n",
    "# B1 * B2"
   ]
  },
  {
   "cell_type": "code",
   "execution_count": 9,
   "metadata": {},
   "outputs": [],
   "source": [
    "actions_2_char = {\n",
    "    0: 'v',\n",
    "    1: '<',\n",
    "    2: '^',\n",
    "    3: '>',\n",
    "    4: '-'\n",
    "}"
   ]
  },
  {
   "cell_type": "code",
   "execution_count": 10,
   "metadata": {},
   "outputs": [],
   "source": [
    "Q = np.asarray(log['qvals'][-1]['values'])\n",
    "# states = np.asarray(log['states'][-1]['values'])\n",
    "Q_norm = np.exp(Q) * Bs\n",
    "V_idx = np.argmax(Q_norm, axis=2)\n",
    "actions = np.asarray(list(map(lambda x: list(map(lambda y: actions_2_char[y], x)), V_idx)))\n",
    "# V = np.max(Q_norm, axis=2)\n",
    "V = np.mean(Q_norm, axis=2)"
   ]
  },
  {
   "cell_type": "code",
   "execution_count": 11,
   "metadata": {},
   "outputs": [],
   "source": [
    "V_idx.shape, V.shape\n",
    "def remove_unsued(A, val):\n",
    "    for idx in [(3,1), (3,2), (3,4), (3,5)]:\n",
    "        A[idx] = val"
   ]
  },
  {
   "cell_type": "code",
   "execution_count": 25,
   "metadata": {},
   "outputs": [
    {
     "data": {
      "text/plain": [
       "(4, 7)"
      ]
     },
     "execution_count": 25,
     "metadata": {},
     "output_type": "execute_result"
    }
   ],
   "source": [
    "V1 = V[:,0].reshape(h, w)\n",
    "# V1 = np.asarray([-2.] * 4)\n",
    "A1 = actions[:,0].reshape(h, w)\n",
    "\n",
    "# remove_unsued(V1, -2.)\n",
    "remove_unsued(A1, '-')\n",
    "V1.shape\n",
    "V2 = V[:,1].reshape(h, w)\n",
    "V2.shape\n",
    "A2 = actions[:,1].reshape(h, w)\n",
    "# remove_unsued(V2, -2.)\n",
    "remove_unsued(A2, '-')\n",
    "V3 = V[:,2].reshape(h, w)\n",
    "A3 = actions[:,2].reshape(h, w)\n",
    "\n",
    "# remove_unsued(V3, -2.)\n",
    "remove_unsued(A3, '-')\n",
    "V3.shape"
   ]
  },
  {
   "cell_type": "code",
   "execution_count": 26,
   "metadata": {},
   "outputs": [
    {
     "data": {
      "image/png": "[encoded data removed]",
      "text/plain": [
       "<Figure size 504x288 with 2 Axes>"
      ]
     },
     "metadata": {},
     "output_type": "display_data"
    }
   ],
   "source": [
    "sns.set(style=\"white\")\n",
    "fig, ax = plt.subplots(figsize=(7,4))\n",
    "xs  = list(map(str, range(1,5)))\n",
    "ys  = list(map(str, range(1,8)))\n",
    "im, cbar = heatmap(V1, xs, ys, ax=ax,\n",
    "                   cmap=\"YlGn\", cbarlabel=\"Quality\")\n",
    "# texts = annotate_heatmap(im, valfmt=\"{x:.1f} t\")\n",
    "texts = annotate_heatmap(im, data=V1, text=A1, valfmt=\"{}\", size=18)\n",
    "fig.tight_layout()\n",
    "plt.savefig('quality_{}_1.pdf'.format(game), bbox_inches='tight')\n",
    "plt.show()"
   ]
  },
  {
   "cell_type": "code",
   "execution_count": 27,
   "metadata": {},
   "outputs": [
    {
     "data": {
      "image/png": "[encoded data removed]",
      "text/plain": [
       "<Figure size 504x288 with 2 Axes>"
      ]
     },
     "metadata": {},
     "output_type": "display_data"
    }
   ],
   "source": [
    "sns.set(style=\"white\")\n",
    "fig, ax = plt.subplots(figsize=(7,4))\n",
    "xs  = list(map(str, range(1,5)))\n",
    "ys  = list(map(str, range(1,8)))\n",
    "im, cbar = heatmap(V2, xs, ys, ax=ax,\n",
    "                   cmap=\"YlGn\", cbarlabel=\"Quality\")\n",
    "# texts = annotate_heatmap(im, valfmt=\"{x:.1f} t\")\n",
    "texts = annotate_heatmap(im, data=V2, text=A2, valfmt=\"{}\", size=18)\n",
    "fig.tight_layout()\n",
    "plt.savefig('quality_{}_2.pdf'.format(game), bbox_inches='tight')\n",
    "plt.show()"
   ]
  },
  {
   "cell_type": "code",
   "execution_count": 28,
   "metadata": {},
   "outputs": [
    {
     "data": {
      "image/png": "[encoded data removed]",
      "text/plain": [
       "<Figure size 504x288 with 2 Axes>"
      ]
     },
     "metadata": {},
     "output_type": "display_data"
    }
   ],
   "source": [
    "sns.set(style=\"white\")\n",
    "fig, ax = plt.subplots(figsize=(7,4))\n",
    "xs  = list(map(str, range(1,5)))\n",
    "ys  = list(map(str, range(1,8)))\n",
    "im, cbar = heatmap(V3, xs, ys, ax=ax,\n",
    "                   cmap=\"YlGn\", cbarlabel=\"Quality\")\n",
    "texts = annotate_heatmap(im, data=V3, text=A3, valfmt=\"{}\", size=18)\n",
    "\n",
    "fig.tight_layout()\n",
    "plt.savefig('quality_{}_3.pdf'.format(game), bbox_inches='tight')\n",
    "plt.show()"
   ]
  },
  {
   "cell_type": "code",
   "execution_count": 29,
   "metadata": {},
   "outputs": [
    {
     "data": {
      "image/png": "[encoded data removed]",
      "text/plain": [
       "<Figure size 504x288 with 2 Axes>"
      ]
     },
     "metadata": {},
     "output_type": "display_data"
    }
   ],
   "source": [
    "sns.set(style=\"white\")\n",
    "fig, ax = plt.subplots(figsize=(7,4))\n",
    "xs  = list(map(str, range(1,5)))\n",
    "ys  = list(map(str, range(1,8)))\n",
    "im, cbar = heatmap(V3+V2+V1, xs, ys, ax=ax,\n",
    "                   cmap=\"YlGn\", cbarlabel=\"Quality\")\n",
    "# texts = annotate_heatmap(im, data=V3, text=A3, valfmt=\"{}\", size=15)\n",
    "\n",
    "fig.tight_layout()\n",
    "plt.savefig('quality_{}.pdf'.format(game), bbox_inches='tight')\n",
    "plt.show()"
   ]
  },
  {
   "cell_type": "code",
   "execution_count": null,
   "metadata": {},
   "outputs": [],
   "source": []
  },
  {
   "cell_type": "code",
   "execution_count": null,
   "metadata": {},
   "outputs": [],
   "source": []
  }
 ],
 "metadata": {
  "kernelspec": {
   "display_name": "Python 3",
   "language": "python",
   "name": "python3"
  },
  "language_info": {
   "codemirror_mode": {
    "name": "ipython",
    "version": 3
   },
   "file_extension": ".py",
   "mimetype": "text/x-python",
   "name": "python",
   "nbconvert_exporter": "python",
   "pygments_lexer": "ipython3",
   "version": "3.7.3"
  }
 },
 "nbformat": 4,
 "nbformat_minor": 4
}
